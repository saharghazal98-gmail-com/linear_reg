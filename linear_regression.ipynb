{
  "nbformat": 4,
  "nbformat_minor": 0,
  "metadata": {
    "colab": {
      "name": "Copy of Untitled4.ipynb",
      "provenance": [],
      "collapsed_sections": []
    },
    "kernelspec": {
      "name": "python3",
      "display_name": "Python 3"
    },
    "language_info": {
      "name": "python"
    }
  },
  "cells": [
    {
      "cell_type": "code",
      "metadata": {
        "id": "b_r3sSTELUH3"
      },
      "source": [
        "import pandas as pd  \n",
        "import numpy as np  \n",
        "import matplotlib.pyplot as plt  \n",
        "import seaborn as seabornInstance \n",
        "from sklearn.model_selection import train_test_split \n",
        "from sklearn.linear_model import LinearRegression\n",
        "from sklearn import metrics\n",
        "from google.colab import files\n",
        "%matplotlib inline"
      ],
      "execution_count": 5,
      "outputs": []
    },
    {
      "cell_type": "code",
      "metadata": {
        "colab": {
          "resources": {
            "http://localhost:8080/nbextensions/google.colab/files.js": {
              "data": "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",
              "ok": true,
              "headers": [
                [
                  "content-type",
                  "application/javascript"
                ]
              ],
              "status": 200,
              "status_text": ""
            }
          },
          "base_uri": "https://localhost:8080/",
          "height": 72
        },
        "id": "yfgSCMThM7gD",
        "outputId": "9b0b9568-1519-4600-d7a5-61f693616a23"
      },
      "source": [
        "uploaded = files.upload()\n",
        "df = pd.read_csv('us_covid19_daily.csv')"
      ],
      "execution_count": 6,
      "outputs": [
        {
          "output_type": "display_data",
          "data": {
            "text/html": [
              "\n",
              "     <input type=\"file\" id=\"files-e1d6725a-7697-4940-85ca-630f7d79f86b\" name=\"files[]\" multiple disabled\n",
              "        style=\"border:none\" />\n",
              "     <output id=\"result-e1d6725a-7697-4940-85ca-630f7d79f86b\">\n",
              "      Upload widget is only available when the cell has been executed in the\n",
              "      current browser session. Please rerun this cell to enable.\n",
              "      </output>\n",
              "      <script src=\"/nbextensions/google.colab/files.js\"></script> "
            ],
            "text/plain": [
              "<IPython.core.display.HTML object>"
            ]
          },
          "metadata": {}
        },
        {
          "output_type": "stream",
          "name": "stdout",
          "text": [
            "Saving us_covid19_daily.csv to us_covid19_daily.csv\n"
          ]
        }
      ]
    },
    {
      "cell_type": "code",
      "metadata": {
        "colab": {
          "base_uri": "https://localhost:8080/",
          "height": 309
        },
        "id": "R6qPC32xPBBY",
        "outputId": "584d313d-088e-4622-f59a-96c3186d4109"
      },
      "source": [
        "df.head(5)"
      ],
      "execution_count": 7,
      "outputs": [
        {
          "output_type": "execute_result",
          "data": {
            "text/html": [
              "<div>\n",
              "<style scoped>\n",
              "    .dataframe tbody tr th:only-of-type {\n",
              "        vertical-align: middle;\n",
              "    }\n",
              "\n",
              "    .dataframe tbody tr th {\n",
              "        vertical-align: top;\n",
              "    }\n",
              "\n",
              "    .dataframe thead th {\n",
              "        text-align: right;\n",
              "    }\n",
              "</style>\n",
              "<table border=\"1\" class=\"dataframe\">\n",
              "  <thead>\n",
              "    <tr style=\"text-align: right;\">\n",
              "      <th></th>\n",
              "      <th>date</th>\n",
              "      <th>states</th>\n",
              "      <th>positive</th>\n",
              "      <th>negative</th>\n",
              "      <th>pending</th>\n",
              "      <th>hospitalizedCurrently</th>\n",
              "      <th>hospitalizedCumulative</th>\n",
              "      <th>inIcuCurrently</th>\n",
              "      <th>inIcuCumulative</th>\n",
              "      <th>onVentilatorCurrently</th>\n",
              "      <th>onVentilatorCumulative</th>\n",
              "      <th>recovered</th>\n",
              "      <th>dateChecked</th>\n",
              "      <th>death</th>\n",
              "      <th>hospitalized</th>\n",
              "      <th>totalTestResults</th>\n",
              "      <th>lastModified</th>\n",
              "      <th>total</th>\n",
              "      <th>posNeg</th>\n",
              "      <th>deathIncrease</th>\n",
              "      <th>hospitalizedIncrease</th>\n",
              "      <th>negativeIncrease</th>\n",
              "      <th>positiveIncrease</th>\n",
              "      <th>totalTestResultsIncrease</th>\n",
              "      <th>hash</th>\n",
              "    </tr>\n",
              "  </thead>\n",
              "  <tbody>\n",
              "    <tr>\n",
              "      <th>0</th>\n",
              "      <td>20201206</td>\n",
              "      <td>56</td>\n",
              "      <td>14534035</td>\n",
              "      <td>161986294</td>\n",
              "      <td>13592.0</td>\n",
              "      <td>101487.0</td>\n",
              "      <td>585676.0</td>\n",
              "      <td>20145.0</td>\n",
              "      <td>31946.0</td>\n",
              "      <td>7094.0</td>\n",
              "      <td>3322.0</td>\n",
              "      <td>5624444.0</td>\n",
              "      <td>2020-12-06T24:00:00Z</td>\n",
              "      <td>273374.0</td>\n",
              "      <td>585676.0</td>\n",
              "      <td>204063869</td>\n",
              "      <td>2020-12-06T24:00:00Z</td>\n",
              "      <td>0</td>\n",
              "      <td>0</td>\n",
              "      <td>1138</td>\n",
              "      <td>2256</td>\n",
              "      <td>1172590</td>\n",
              "      <td>176771</td>\n",
              "      <td>1634532</td>\n",
              "      <td>9cf16504f91958e803a2197daf8c2528a4eddc18</td>\n",
              "    </tr>\n",
              "    <tr>\n",
              "      <th>1</th>\n",
              "      <td>20201205</td>\n",
              "      <td>56</td>\n",
              "      <td>14357264</td>\n",
              "      <td>160813704</td>\n",
              "      <td>13433.0</td>\n",
              "      <td>101190.0</td>\n",
              "      <td>583420.0</td>\n",
              "      <td>19950.0</td>\n",
              "      <td>31831.0</td>\n",
              "      <td>7005.0</td>\n",
              "      <td>3321.0</td>\n",
              "      <td>5576026.0</td>\n",
              "      <td>2020-12-05T24:00:00Z</td>\n",
              "      <td>272236.0</td>\n",
              "      <td>583420.0</td>\n",
              "      <td>202429337</td>\n",
              "      <td>2020-12-05T24:00:00Z</td>\n",
              "      <td>0</td>\n",
              "      <td>0</td>\n",
              "      <td>2445</td>\n",
              "      <td>3316</td>\n",
              "      <td>1526995</td>\n",
              "      <td>211073</td>\n",
              "      <td>2169756</td>\n",
              "      <td>6249216c5f097c94ce33a811dab011a483a42404</td>\n",
              "    </tr>\n",
              "    <tr>\n",
              "      <th>2</th>\n",
              "      <td>20201204</td>\n",
              "      <td>56</td>\n",
              "      <td>14146191</td>\n",
              "      <td>159286709</td>\n",
              "      <td>12714.0</td>\n",
              "      <td>101276.0</td>\n",
              "      <td>580104.0</td>\n",
              "      <td>19858.0</td>\n",
              "      <td>31608.0</td>\n",
              "      <td>6999.0</td>\n",
              "      <td>3305.0</td>\n",
              "      <td>5470389.0</td>\n",
              "      <td>2020-12-04T24:00:00Z</td>\n",
              "      <td>269791.0</td>\n",
              "      <td>580104.0</td>\n",
              "      <td>200259581</td>\n",
              "      <td>2020-12-04T24:00:00Z</td>\n",
              "      <td>0</td>\n",
              "      <td>0</td>\n",
              "      <td>2563</td>\n",
              "      <td>4652</td>\n",
              "      <td>1260657</td>\n",
              "      <td>224831</td>\n",
              "      <td>1854869</td>\n",
              "      <td>ae30ea088584335ba4d57ee927f8dbda6add74db</td>\n",
              "    </tr>\n",
              "    <tr>\n",
              "      <th>3</th>\n",
              "      <td>20201203</td>\n",
              "      <td>56</td>\n",
              "      <td>13921360</td>\n",
              "      <td>158026052</td>\n",
              "      <td>15106.0</td>\n",
              "      <td>100755.0</td>\n",
              "      <td>575452.0</td>\n",
              "      <td>19723.0</td>\n",
              "      <td>31276.0</td>\n",
              "      <td>6867.0</td>\n",
              "      <td>3280.0</td>\n",
              "      <td>5404018.0</td>\n",
              "      <td>2020-12-03T24:00:00Z</td>\n",
              "      <td>267228.0</td>\n",
              "      <td>575452.0</td>\n",
              "      <td>198404712</td>\n",
              "      <td>2020-12-03T24:00:00Z</td>\n",
              "      <td>0</td>\n",
              "      <td>0</td>\n",
              "      <td>2706</td>\n",
              "      <td>5331</td>\n",
              "      <td>1238465</td>\n",
              "      <td>210204</td>\n",
              "      <td>1828230</td>\n",
              "      <td>0f253d185ecb336cdd18a4c61996eda1b7eef13b</td>\n",
              "    </tr>\n",
              "    <tr>\n",
              "      <th>4</th>\n",
              "      <td>20201202</td>\n",
              "      <td>56</td>\n",
              "      <td>13711156</td>\n",
              "      <td>156787587</td>\n",
              "      <td>14368.0</td>\n",
              "      <td>100322.0</td>\n",
              "      <td>570121.0</td>\n",
              "      <td>19680.0</td>\n",
              "      <td>31038.0</td>\n",
              "      <td>6855.0</td>\n",
              "      <td>3252.0</td>\n",
              "      <td>5322128.0</td>\n",
              "      <td>2020-12-02T24:00:00Z</td>\n",
              "      <td>264522.0</td>\n",
              "      <td>570121.0</td>\n",
              "      <td>196576482</td>\n",
              "      <td>2020-12-02T24:00:00Z</td>\n",
              "      <td>0</td>\n",
              "      <td>0</td>\n",
              "      <td>2733</td>\n",
              "      <td>5028</td>\n",
              "      <td>982032</td>\n",
              "      <td>195796</td>\n",
              "      <td>1459202</td>\n",
              "      <td>477c17b6302d0485195e77ecf8270a974f7a3c82</td>\n",
              "    </tr>\n",
              "  </tbody>\n",
              "</table>\n",
              "</div>"
            ],
            "text/plain": [
              "       date  ...                                      hash\n",
              "0  20201206  ...  9cf16504f91958e803a2197daf8c2528a4eddc18\n",
              "1  20201205  ...  6249216c5f097c94ce33a811dab011a483a42404\n",
              "2  20201204  ...  ae30ea088584335ba4d57ee927f8dbda6add74db\n",
              "3  20201203  ...  0f253d185ecb336cdd18a4c61996eda1b7eef13b\n",
              "4  20201202  ...  477c17b6302d0485195e77ecf8270a974f7a3c82\n",
              "\n",
              "[5 rows x 25 columns]"
            ]
          },
          "metadata": {},
          "execution_count": 7
        }
      ]
    },
    {
      "cell_type": "code",
      "metadata": {
        "colab": {
          "base_uri": "https://localhost:8080/"
        },
        "id": "SxETGCXDO_dS",
        "outputId": "a24eef4f-19d6-4a2e-e9e1-e44b6ccc74e2"
      },
      "source": [
        "df.shape\n"
      ],
      "execution_count": 8,
      "outputs": [
        {
          "output_type": "execute_result",
          "data": {
            "text/plain": [
              "(320, 25)"
            ]
          },
          "metadata": {},
          "execution_count": 8
        }
      ]
    },
    {
      "cell_type": "code",
      "metadata": {
        "colab": {
          "base_uri": "https://localhost:8080/",
          "height": 317
        },
        "id": "7nhq_sOKPUCR",
        "outputId": "56eb3776-1094-4b6d-8293-0902335b2b88"
      },
      "source": [
        "df.describe()\n"
      ],
      "execution_count": null,
      "outputs": [
        {
          "output_type": "execute_result",
          "data": {
            "text/html": [
              "<div>\n",
              "<style scoped>\n",
              "    .dataframe tbody tr th:only-of-type {\n",
              "        vertical-align: middle;\n",
              "    }\n",
              "\n",
              "    .dataframe tbody tr th {\n",
              "        vertical-align: top;\n",
              "    }\n",
              "\n",
              "    .dataframe thead th {\n",
              "        text-align: right;\n",
              "    }\n",
              "</style>\n",
              "<table border=\"1\" class=\"dataframe\">\n",
              "  <thead>\n",
              "    <tr style=\"text-align: right;\">\n",
              "      <th></th>\n",
              "      <th>date</th>\n",
              "      <th>states</th>\n",
              "      <th>positive</th>\n",
              "      <th>negative</th>\n",
              "      <th>pending</th>\n",
              "      <th>hospitalizedCurrently</th>\n",
              "      <th>hospitalizedCumulative</th>\n",
              "      <th>inIcuCurrently</th>\n",
              "      <th>inIcuCumulative</th>\n",
              "      <th>onVentilatorCurrently</th>\n",
              "      <th>onVentilatorCumulative</th>\n",
              "      <th>recovered</th>\n",
              "      <th>death</th>\n",
              "      <th>hospitalized</th>\n",
              "      <th>totalTestResults</th>\n",
              "      <th>total</th>\n",
              "      <th>posNeg</th>\n",
              "      <th>deathIncrease</th>\n",
              "      <th>hospitalizedIncrease</th>\n",
              "      <th>negativeIncrease</th>\n",
              "      <th>positiveIncrease</th>\n",
              "      <th>totalTestResultsIncrease</th>\n",
              "    </tr>\n",
              "  </thead>\n",
              "  <tbody>\n",
              "    <tr>\n",
              "      <th>count</th>\n",
              "      <td>3.200000e+02</td>\n",
              "      <td>320.000000</td>\n",
              "      <td>3.200000e+02</td>\n",
              "      <td>3.200000e+02</td>\n",
              "      <td>278.000000</td>\n",
              "      <td>265.000000</td>\n",
              "      <td>278.000000</td>\n",
              "      <td>256.000000</td>\n",
              "      <td>257.000000</td>\n",
              "      <td>257.000000</td>\n",
              "      <td>250.00000</td>\n",
              "      <td>2.570000e+02</td>\n",
              "      <td>301.000000</td>\n",
              "      <td>278.000000</td>\n",
              "      <td>3.200000e+02</td>\n",
              "      <td>320.0</td>\n",
              "      <td>320.0</td>\n",
              "      <td>320.000000</td>\n",
              "      <td>320.00000</td>\n",
              "      <td>3.200000e+02</td>\n",
              "      <td>320.000000</td>\n",
              "      <td>3.200000e+02</td>\n",
              "    </tr>\n",
              "    <tr>\n",
              "      <th>mean</th>\n",
              "      <td>2.020066e+07</td>\n",
              "      <td>48.853125</td>\n",
              "      <td>3.963366e+06</td>\n",
              "      <td>4.707150e+07</td>\n",
              "      <td>9042.223022</td>\n",
              "      <td>44522.373585</td>\n",
              "      <td>276808.104317</td>\n",
              "      <td>9200.675781</td>\n",
              "      <td>14374.735409</td>\n",
              "      <td>3146.070039</td>\n",
              "      <td>1553.63600</td>\n",
              "      <td>1.782062e+06</td>\n",
              "      <td>122746.139535</td>\n",
              "      <td>276808.104317</td>\n",
              "      <td>5.651348e+07</td>\n",
              "      <td>0.0</td>\n",
              "      <td>0.0</td>\n",
              "      <td>854.293750</td>\n",
              "      <td>1830.23750</td>\n",
              "      <td>5.062072e+05</td>\n",
              "      <td>45418.859375</td>\n",
              "      <td>6.376996e+05</td>\n",
              "    </tr>\n",
              "    <tr>\n",
              "      <th>std</th>\n",
              "      <td>3.041616e+02</td>\n",
              "      <td>17.519724</td>\n",
              "      <td>3.837424e+06</td>\n",
              "      <td>4.863156e+07</td>\n",
              "      <td>11367.578741</td>\n",
              "      <td>19060.814409</td>\n",
              "      <td>160875.737479</td>\n",
              "      <td>3806.564610</td>\n",
              "      <td>8528.022020</td>\n",
              "      <td>1667.846582</td>\n",
              "      <td>961.90535</td>\n",
              "      <td>1.518054e+06</td>\n",
              "      <td>82559.099864</td>\n",
              "      <td>160875.737479</td>\n",
              "      <td>5.970415e+07</td>\n",
              "      <td>0.0</td>\n",
              "      <td>0.0</td>\n",
              "      <td>654.573738</td>\n",
              "      <td>1847.01654</td>\n",
              "      <td>3.888724e+05</td>\n",
              "      <td>45243.105210</td>\n",
              "      <td>5.215503e+05</td>\n",
              "    </tr>\n",
              "    <tr>\n",
              "      <th>min</th>\n",
              "      <td>2.020012e+07</td>\n",
              "      <td>2.000000</td>\n",
              "      <td>0.000000e+00</td>\n",
              "      <td>0.000000e+00</td>\n",
              "      <td>124.000000</td>\n",
              "      <td>325.000000</td>\n",
              "      <td>4.000000</td>\n",
              "      <td>1299.000000</td>\n",
              "      <td>74.000000</td>\n",
              "      <td>167.000000</td>\n",
              "      <td>32.00000</td>\n",
              "      <td>9.700000e+01</td>\n",
              "      <td>0.000000</td>\n",
              "      <td>4.000000</td>\n",
              "      <td>1.000000e+00</td>\n",
              "      <td>0.0</td>\n",
              "      <td>0.0</td>\n",
              "      <td>0.000000</td>\n",
              "      <td>-2849.00000</td>\n",
              "      <td>0.000000e+00</td>\n",
              "      <td>0.000000</td>\n",
              "      <td>0.000000e+00</td>\n",
              "    </tr>\n",
              "    <tr>\n",
              "      <th>25%</th>\n",
              "      <td>2.020041e+07</td>\n",
              "      <td>56.000000</td>\n",
              "      <td>5.243978e+05</td>\n",
              "      <td>2.177519e+06</td>\n",
              "      <td>2819.500000</td>\n",
              "      <td>32180.000000</td>\n",
              "      <td>158522.750000</td>\n",
              "      <td>6267.500000</td>\n",
              "      <td>8109.000000</td>\n",
              "      <td>2045.000000</td>\n",
              "      <td>711.75000</td>\n",
              "      <td>4.777940e+05</td>\n",
              "      <td>50175.000000</td>\n",
              "      <td>158522.750000</td>\n",
              "      <td>2.770965e+06</td>\n",
              "      <td>0.0</td>\n",
              "      <td>0.0</td>\n",
              "      <td>352.000000</td>\n",
              "      <td>816.75000</td>\n",
              "      <td>1.189028e+05</td>\n",
              "      <td>20310.250000</td>\n",
              "      <td>1.513970e+05</td>\n",
              "    </tr>\n",
              "    <tr>\n",
              "      <th>50%</th>\n",
              "      <td>2.020063e+07</td>\n",
              "      <td>56.000000</td>\n",
              "      <td>2.600174e+06</td>\n",
              "      <td>2.954071e+07</td>\n",
              "      <td>4300.000000</td>\n",
              "      <td>41871.000000</td>\n",
              "      <td>276369.000000</td>\n",
              "      <td>8315.500000</td>\n",
              "      <td>14044.000000</td>\n",
              "      <td>2533.000000</td>\n",
              "      <td>1478.00000</td>\n",
              "      <td>1.437182e+06</td>\n",
              "      <td>125464.000000</td>\n",
              "      <td>276369.000000</td>\n",
              "      <td>3.350979e+07</td>\n",
              "      <td>0.0</td>\n",
              "      <td>0.0</td>\n",
              "      <td>859.000000</td>\n",
              "      <td>1564.00000</td>\n",
              "      <td>5.566565e+05</td>\n",
              "      <td>34292.500000</td>\n",
              "      <td>6.456460e+05</td>\n",
              "    </tr>\n",
              "    <tr>\n",
              "      <th>75%</th>\n",
              "      <td>2.020092e+07</td>\n",
              "      <td>56.000000</td>\n",
              "      <td>6.624805e+06</td>\n",
              "      <td>8.293463e+07</td>\n",
              "      <td>11444.250000</td>\n",
              "      <td>55449.000000</td>\n",
              "      <td>397899.250000</td>\n",
              "      <td>11164.250000</td>\n",
              "      <td>20686.000000</td>\n",
              "      <td>4383.000000</td>\n",
              "      <td>2368.00000</td>\n",
              "      <td>2.895307e+06</td>\n",
              "      <td>192826.000000</td>\n",
              "      <td>397899.250000</td>\n",
              "      <td>9.813412e+07</td>\n",
              "      <td>0.0</td>\n",
              "      <td>0.0</td>\n",
              "      <td>1195.000000</td>\n",
              "      <td>2414.00000</td>\n",
              "      <td>7.581605e+05</td>\n",
              "      <td>56288.250000</td>\n",
              "      <td>9.562088e+05</td>\n",
              "    </tr>\n",
              "    <tr>\n",
              "      <th>max</th>\n",
              "      <td>2.020121e+07</td>\n",
              "      <td>56.000000</td>\n",
              "      <td>1.453404e+07</td>\n",
              "      <td>1.619863e+08</td>\n",
              "      <td>65709.000000</td>\n",
              "      <td>101487.000000</td>\n",
              "      <td>585676.000000</td>\n",
              "      <td>20145.000000</td>\n",
              "      <td>31946.000000</td>\n",
              "      <td>7094.000000</td>\n",
              "      <td>3322.00000</td>\n",
              "      <td>5.624444e+06</td>\n",
              "      <td>273374.000000</td>\n",
              "      <td>585676.000000</td>\n",
              "      <td>2.040639e+08</td>\n",
              "      <td>0.0</td>\n",
              "      <td>0.0</td>\n",
              "      <td>2752.000000</td>\n",
              "      <td>17287.00000</td>\n",
              "      <td>1.941714e+06</td>\n",
              "      <td>224831.000000</td>\n",
              "      <td>2.340996e+06</td>\n",
              "    </tr>\n",
              "  </tbody>\n",
              "</table>\n",
              "</div>"
            ],
            "text/plain": [
              "               date      states  ...  positiveIncrease  totalTestResultsIncrease\n",
              "count  3.200000e+02  320.000000  ...        320.000000              3.200000e+02\n",
              "mean   2.020066e+07   48.853125  ...      45418.859375              6.376996e+05\n",
              "std    3.041616e+02   17.519724  ...      45243.105210              5.215503e+05\n",
              "min    2.020012e+07    2.000000  ...          0.000000              0.000000e+00\n",
              "25%    2.020041e+07   56.000000  ...      20310.250000              1.513970e+05\n",
              "50%    2.020063e+07   56.000000  ...      34292.500000              6.456460e+05\n",
              "75%    2.020092e+07   56.000000  ...      56288.250000              9.562088e+05\n",
              "max    2.020121e+07   56.000000  ...     224831.000000              2.340996e+06\n",
              "\n",
              "[8 rows x 22 columns]"
            ]
          },
          "metadata": {},
          "execution_count": 135
        }
      ]
    },
    {
      "cell_type": "code",
      "metadata": {
        "colab": {
          "base_uri": "https://localhost:8080/",
          "height": 295
        },
        "id": "cRGR-7zVPsAp",
        "outputId": "cdbf22c2-fe32-430f-f457-c281abe96431"
      },
      "source": [
        "\n",
        "df.plot(x='positive', y='death', style='o')\n",
        "plt.title('Positive Cases vs Deaths')  \n",
        "plt.xlabel('Positive')  \n",
        "plt.ylabel('Deaths')  \n",
        "plt.show()"
      ],
      "execution_count": 9,
      "outputs": [
        {
          "output_type": "display_data",
          "data": {
            "image/png": "[encoded data removed]",
            "text/plain": [
              "<Figure size 432x288 with 1 Axes>"
            ]
          },
          "metadata": {
            "needs_background": "light"
          }
        }
      ]
    },
    {
      "cell_type": "code",
      "metadata": {
        "colab": {
          "base_uri": "https://localhost:8080/",
          "height": 687
        },
        "id": "hmJro5RQY8zw",
        "outputId": "4348b227-33ad-4a28-e063-57f186a866a8"
      },
      "source": [
        "plt.figure(figsize=(15,10))\n",
        "plt.tight_layout()\n",
        "seabornInstance.distplot(df['death'])"
      ],
      "execution_count": 10,
      "outputs": [
        {
          "output_type": "stream",
          "name": "stderr",
          "text": [
            "/usr/local/lib/python3.7/dist-packages/seaborn/distributions.py:2619: FutureWarning: `distplot` is a deprecated function and will be removed in a future version. Please adapt your code to use either `displot` (a figure-level function with similar flexibility) or `histplot` (an axes-level function for histograms).\n",
            "  warnings.warn(msg, FutureWarning)\n"
          ]
        },
        {
          "output_type": "execute_result",
          "data": {
            "text/plain": [
              "<matplotlib.axes._subplots.AxesSubplot at 0x7f7e356b9510>"
            ]
          },
          "metadata": {},
          "execution_count": 10
        },
        {
          "output_type": "display_data",
          "data": {
            "image/png": "[encoded data removed]",
            "text/plain": [
              "<Figure size 1080x720 with 1 Axes>"
            ]
          },
          "metadata": {
            "needs_background": "light"
          }
        }
      ]
    },
    {
      "cell_type": "code",
      "metadata": {
        "id": "YmF5RfShZMtm"
      },
      "source": [
        "\n",
        "x = df['positive'].values.reshape(-1,1)\n",
        "y = df['death'].values.reshape(-1,1)"
      ],
      "execution_count": 15,
      "outputs": []
    },
    {
      "cell_type": "code",
      "metadata": {
        "id": "Qq-vbdCFeyxe"
      },
      "source": [
        "\n",
        "x_train, X_test, y_train, y_test = train_test_split(x, y, test_size=0.4, random_state=0)\n"
      ],
      "execution_count": 31,
      "outputs": []
    },
    {
      "cell_type": "code",
      "metadata": {
        "colab": {
          "base_uri": "https://localhost:8080/"
        },
        "id": "KNMVY6Qic7xe",
        "outputId": "db52eee6-91e6-4fcc-f0f1-5a19a283653a"
      },
      "source": [
        "from sklearn import linear_model\n",
        "import sklearn\n",
        "\n",
        "df.fillna(0,inplace=True)\n",
        "\n",
        "x_train, x_test, y_train, y_test = sklearn.model_selection.train_test_split(x, y, test_size=0.8)\n",
        "\n",
        "linear = linear_model.LinearRegression()\n",
        "\n",
        "linear.fit(x_train, y_train)\n",
        "# regressor = LinearRegression()  \n",
        "# regressor.fit(x_train, y_train) #training the algorithm"
      ],
      "execution_count": 41,
      "outputs": [
        {
          "output_type": "execute_result",
          "data": {
            "text/plain": [
              "LinearRegression(copy_X=True, fit_intercept=True, n_jobs=None, normalize=False)"
            ]
          },
          "metadata": {},
          "execution_count": 41
        }
      ]
    },
    {
      "cell_type": "code",
      "metadata": {
        "colab": {
          "base_uri": "https://localhost:8080/"
        },
        "id": "0-FhsadLfgNl",
        "outputId": "2ae762a6-ea03-41cb-c03d-eb4ae8ed516a"
      },
      "source": [
        "#To retrieve the intercept:\n",
        "print(regressor)"
      ],
      "execution_count": 42,
      "outputs": [
        {
          "output_type": "stream",
          "name": "stdout",
          "text": [
            "LinearRegression(copy_X=True, fit_intercept=True, n_jobs=None, normalize=False)\n"
          ]
        }
      ]
    },
    {
      "cell_type": "code",
      "metadata": {
        "id": "HDZPa76Zfohc"
      },
      "source": [
        "y_pred = linear.predict(x_test)\n",
        "df = pd.DataFrame({'Actual': y_test.flatten(), 'Predicted': y_pred.flatten()})"
      ],
      "execution_count": 45,
      "outputs": []
    },
    {
      "cell_type": "code",
      "metadata": {
        "colab": {
          "base_uri": "https://localhost:8080/",
          "height": 419
        },
        "id": "UpEdCECKgAUW",
        "outputId": "26ac9f30-1f43-4570-bcbf-005eb4ddd6a8"
      },
      "source": [
        "df"
      ],
      "execution_count": 46,
      "outputs": [
        {
          "output_type": "execute_result",
          "data": {
            "text/html": [
              "<div>\n",
              "<style scoped>\n",
              "    .dataframe tbody tr th:only-of-type {\n",
              "        vertical-align: middle;\n",
              "    }\n",
              "\n",
              "    .dataframe tbody tr th {\n",
              "        vertical-align: top;\n",
              "    }\n",
              "\n",
              "    .dataframe thead th {\n",
              "        text-align: right;\n",
              "    }\n",
              "</style>\n",
              "<table border=\"1\" class=\"dataframe\">\n",
              "  <thead>\n",
              "    <tr style=\"text-align: right;\">\n",
              "      <th></th>\n",
              "      <th>Actual</th>\n",
              "      <th>Predicted</th>\n",
              "    </tr>\n",
              "  </thead>\n",
              "  <tbody>\n",
              "    <tr>\n",
              "      <th>0</th>\n",
              "      <td>117748.0</td>\n",
              "      <td>81676.172406</td>\n",
              "    </tr>\n",
              "    <tr>\n",
              "      <th>1</th>\n",
              "      <td>222854.0</td>\n",
              "      <td>250723.747102</td>\n",
              "    </tr>\n",
              "    <tr>\n",
              "      <th>2</th>\n",
              "      <td>34730.0</td>\n",
              "      <td>38777.861342</td>\n",
              "    </tr>\n",
              "    <tr>\n",
              "      <th>3</th>\n",
              "      <td>4332.0</td>\n",
              "      <td>26035.037200</td>\n",
              "    </tr>\n",
              "    <tr>\n",
              "      <th>4</th>\n",
              "      <td>243820.0</td>\n",
              "      <td>311994.615160</td>\n",
              "    </tr>\n",
              "    <tr>\n",
              "      <th>...</th>\n",
              "      <td>...</td>\n",
              "      <td>...</td>\n",
              "    </tr>\n",
              "    <tr>\n",
              "      <th>251</th>\n",
              "      <td>120087.0</td>\n",
              "      <td>87114.213425</td>\n",
              "    </tr>\n",
              "    <tr>\n",
              "      <th>252</th>\n",
              "      <td>0.0</td>\n",
              "      <td>21052.056581</td>\n",
              "    </tr>\n",
              "    <tr>\n",
              "      <th>253</th>\n",
              "      <td>102187.0</td>\n",
              "      <td>67168.066378</td>\n",
              "    </tr>\n",
              "    <tr>\n",
              "      <th>254</th>\n",
              "      <td>114455.0</td>\n",
              "      <td>76627.003472</td>\n",
              "    </tr>\n",
              "    <tr>\n",
              "      <th>255</th>\n",
              "      <td>118372.0</td>\n",
              "      <td>82793.468423</td>\n",
              "    </tr>\n",
              "  </tbody>\n",
              "</table>\n",
              "<p>256 rows × 2 columns</p>\n",
              "</div>"
            ],
            "text/plain": [
              "       Actual      Predicted\n",
              "0    117748.0   81676.172406\n",
              "1    222854.0  250723.747102\n",
              "2     34730.0   38777.861342\n",
              "3      4332.0   26035.037200\n",
              "4    243820.0  311994.615160\n",
              "..        ...            ...\n",
              "251  120087.0   87114.213425\n",
              "252       0.0   21052.056581\n",
              "253  102187.0   67168.066378\n",
              "254  114455.0   76627.003472\n",
              "255  118372.0   82793.468423\n",
              "\n",
              "[256 rows x 2 columns]"
            ]
          },
          "metadata": {},
          "execution_count": 46
        }
      ]
    },
    {
      "cell_type": "code",
      "metadata": {
        "colab": {
          "base_uri": "https://localhost:8080/",
          "height": 594
        },
        "id": "nMHjpv3ygCIr",
        "outputId": "c790fdfc-6dd6-411f-c2b4-7911c495e0b0"
      },
      "source": [
        "df1 = df.head(25)\n",
        "df1.plot(kind='bar',figsize=(16,10))\n",
        "plt.grid(which='major', linestyle='-', linewidth='0.5', color='green')\n",
        "plt.grid(which='minor', linestyle=':', linewidth='0.5', color='black')\n",
        "\n",
        "plt.show()"
      ],
      "execution_count": 47,
      "outputs": [
        {
          "output_type": "display_data",
          "data": {
            "image/png": "[encoded data removed]",
            "text/plain": [
              "<Figure size 1152x720 with 1 Axes>"
            ]
          },
          "metadata": {
            "needs_background": "light"
          }
        }
      ]
    },
    {
      "cell_type": "code",
      "metadata": {
        "colab": {
          "base_uri": "https://localhost:8080/",
          "height": 279
        },
        "id": "h7VCeNUWgcQs",
        "outputId": "8ee91f41-7cd8-4325-bf36-557edf9c2503"
      },
      "source": [
        "plt.scatter(x_test, y_test,  color='gray')\n",
        "plt.plot(x_test, y_pred, color='red', linewidth=2)\n",
        "plt.show()"
      ],
      "execution_count": 48,
      "outputs": [
        {
          "output_type": "display_data",
          "data": {
            "image/png": "[encoded data removed]",
            "text/plain": [
              "<Figure size 432x288 with 1 Axes>"
            ]
          },
          "metadata": {
            "needs_background": "light"
          }
        }
      ]
    }
  ]
}